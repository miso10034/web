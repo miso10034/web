{
 "cells": [
  {
   "cell_type": "markdown",
   "id": "b416942d",
   "metadata": {},
   "source": [
    "### 데이터베이스 테스트"
   ]
  },
  {
   "cell_type": "code",
   "execution_count": null,
   "id": "a964de76",
   "metadata": {},
   "outputs": [],
   "source": [
    "\"\"\"\n",
    "<DB 접속 및 사용 순서>\n",
    "1. DB 드라이버 연결 settings.py\n",
    "2. DB Connection 접속 settings.py\n",
    "3. 커서 받아오기 models.py\n",
    "4. SQL 구문 작성 및 실행요청(커서가 처리함) views.py\n",
    "5. 결과 출력을 위한 프로그래밍 templates\n",
    "6. 커서 반환 > DB Connection 접속 해제 settings.py\n",
    "\"\"\""
   ]
  },
  {
   "cell_type": "code",
   "execution_count": 46,
   "id": "b9491f42",
   "metadata": {},
   "outputs": [],
   "source": [
    "### 오라클 라이브러리 불러들이기\n",
    "import cx_Oracle"
   ]
  },
  {
   "cell_type": "markdown",
   "id": "584fcb3a",
   "metadata": {},
   "source": [
    "### 1. DB 드라이버 연결하기(서버 찾아가기)"
   ]
  },
  {
   "cell_type": "code",
   "execution_count": 47,
   "id": "d208c628",
   "metadata": {},
   "outputs": [],
   "source": [
    "dsn = cx_Oracle.makedsn(\"localhost\",1521,\"xe\")\n",
    "# django에서 settings.py에 DATABASES에 오라클 데이터베이스 설정 추가에 있음"
   ]
  },
  {
   "cell_type": "markdown",
   "id": "e5e70b44",
   "metadata": {},
   "source": [
    "### 2. DB 접속(connect)하기(통로 만들기)"
   ]
  },
  {
   "cell_type": "code",
   "execution_count": 48,
   "id": "72b7aef9",
   "metadata": {},
   "outputs": [],
   "source": [
    "conn = cx_Oracle.connect(\"gwangju_a\",\"dbdb\",dsn) \n",
    "# sqldeveloper에서 접속정보의 사용자 이름과 비밀번호가 들어감"
   ]
  },
  {
   "cell_type": "markdown",
   "id": "76a6c2ac",
   "metadata": {},
   "source": [
    "### 3. 커서(cusor)받아오기(서버로 sql구문을 실어나르고, 결과 받아오는 역할)"
   ]
  },
  {
   "cell_type": "code",
   "execution_count": 49,
   "id": "5596dee3",
   "metadata": {},
   "outputs": [],
   "source": [
    "cursor = conn.cursor()"
   ]
  },
  {
   "cell_type": "markdown",
   "id": "3f9d9797",
   "metadata": {},
   "source": [
    "### 4. SQL 구문 작성 및 실행요청(커서가 처리함)"
   ]
  },
  {
   "cell_type": "code",
   "execution_count": 50,
   "id": "247c5c92",
   "metadata": {},
   "outputs": [],
   "source": [
    "### SQL 요청 구문 작성하기\n",
    "# 회원정보에서 회원아이디, 회원이름, 회원주소1 조회하기\n",
    "# sqldeveloper에서 실행한 sql 구문과 동일하게 넣어줘야함\n",
    "sql = \"\"\"\n",
    "    select mem_id, mem_name, mem_add1\n",
    "    From member\n",
    "    order by mem_name\n",
    "\"\"\""
   ]
  },
  {
   "cell_type": "code",
   "execution_count": 51,
   "id": "f2630c77",
   "metadata": {},
   "outputs": [
    {
     "data": {
      "text/plain": [
       "<cx_Oracle.Cursor on <cx_Oracle.Connection to gwangju_a@(DESCRIPTION=(ADDRESS=(PROTOCOL=TCP)(HOST=localhost)(PORT=1521))(CONNECT_DATA=(SID=xe)))>>"
      ]
     },
     "execution_count": 51,
     "metadata": {},
     "output_type": "execute_result"
    }
   ],
   "source": [
    "### SQL 실행요청\n",
    "# 구문을 서버에게 보내서 요청하고, 결과를 받아오기 -> 커서가 수행함\n",
    "cursor.execute(sql)"
   ]
  },
  {
   "cell_type": "markdown",
   "id": "ac6fe31a",
   "metadata": {},
   "source": [
    "### 5. 결과 출력을 위한 프로그래밍"
   ]
  },
  {
   "cell_type": "code",
   "execution_count": 52,
   "id": "fdf589f6",
   "metadata": {},
   "outputs": [],
   "source": [
    "### 커서가 DB서버로부터 받아온 결과값 추출하기\n",
    "# - 여러건 조회 : fetchall()\n",
    "# - 한건 조회   : fetchone()\n",
    "# 이 데이터를 웹에서 사용하려면 딕셔너리형태로 바꿔야함\n",
    "rows = cursor.fetchall()"
   ]
  },
  {
   "cell_type": "code",
   "execution_count": 53,
   "id": "c8354f57",
   "metadata": {
    "scrolled": true
   },
   "outputs": [
    {
     "data": {
      "text/plain": [
       "[('l001', '구길동', '충남금산군 금산읍'),\n",
       " ('u001', '김성욱', '대전시 동구 용전동'),\n",
       " ('j001', '김윤희', '대전시 서구 삼천동'),\n",
       " ('a001', '김은대', '대전시 동구 용운동'),\n",
       " ('w001', '김형모', '대전시 대덕구 연축동'),\n",
       " ('h001', '라준호', '충남 논산시 양촌면'),\n",
       " ('m001', '박지은', '대전광역시 서구 갈마동'),\n",
       " ('o001', '배인정', '대전시 서구 갈마동'),\n",
       " ('t001', '성원태', '대전광역시 중구 유천동'),\n",
       " ('d001', '성윤미', '대전시 중구 하늘동 '),\n",
       " ('g001', '송경희', '충남금산군 제원면'),\n",
       " ('f001', '신영남', '대전광역시 대흥동'),\n",
       " ('c001', '신용환', '대전광역시 중구 대흥동'),\n",
       " ('s001', '안은정', '대구광역시 서구 탄방동'),\n",
       " ('p001', '오성순', '대전유성구송강동'),\n",
       " ('k001', '오철희', '대전시 대덕구 대화동'),\n",
       " ('q001', '육평회', '대구광역시 대덕구 중리동'),\n",
       " ('b001', '이쁜이', '서울시 천사동 예쁜마을'),\n",
       " ('v001', '이진영', '대전시 동구 용전동'),\n",
       " ('e001', '이혜나', '대전시 대덕구 읍내동'),\n",
       " ('r001', '정은실', '대전시 동구 용전동'),\n",
       " ('x001', '진현경', '대전광역시 동구 오정동'),\n",
       " ('i001', '최지현', '대전시 동구 가양1동'),\n",
       " ('n001', '탁원재', '대전시 동구 자양동')]"
      ]
     },
     "execution_count": 53,
     "metadata": {},
     "output_type": "execute_result"
    }
   ],
   "source": [
    "rows"
   ]
  },
  {
   "cell_type": "code",
   "execution_count": 55,
   "id": "dfa51eba",
   "metadata": {},
   "outputs": [],
   "source": [
    "### 조회결과에 대한 컬럼명만 조회하기 (커서가 가지고 있음)\n",
    "colname = cursor.description"
   ]
  },
  {
   "cell_type": "code",
   "execution_count": 67,
   "id": "457b1933",
   "metadata": {},
   "outputs": [],
   "source": [
    "# 데이터베이스에서 조회한 결과의 컬럼명은 모두 대문자\n",
    "# - 프로그램에서 사용할 때는 소문자로 바꿔서 사용!\n",
    "colname1=colname[0][0].lower()\n",
    "colname2=colname[1][0].lower()\n",
    "colname3=colname[2][0].lower()"
   ]
  },
  {
   "cell_type": "code",
   "execution_count": 69,
   "id": "a5ae08ba",
   "metadata": {},
   "outputs": [
    {
     "data": {
      "text/plain": [
       "['mem_id', 'mem_name', 'mem_add1']"
      ]
     },
     "execution_count": 69,
     "metadata": {},
     "output_type": "execute_result"
    }
   ],
   "source": [
    "col = [colname1,colname2,colname3]\n",
    "col"
   ]
  },
  {
   "cell_type": "code",
   "execution_count": 74,
   "id": "0d323bf1",
   "metadata": {},
   "outputs": [
    {
     "data": {
      "text/plain": [
       "['mem_id', 'mem_name', 'mem_add1']"
      ]
     },
     "execution_count": 74,
     "metadata": {},
     "output_type": "execute_result"
    }
   ],
   "source": [
    "### 컬럼명만 추출하여 col = [] 변수에 담기\n",
    "# - 추출한 컬럼명은 소문자로 변환해서 col 리스트 변수에 담기\n",
    "\n",
    "# for문 안에서 값을 담아서 누적 시키기 위해 전역변수로 선언\n",
    "col = []\n",
    "for t in colname :\n",
    "    # col 리스트 변수에 값을 추가하기 : append(값) 사용\n",
    "    col.append(t[0].lower())\n",
    "col"
   ]
  },
  {
   "cell_type": "code",
   "execution_count": 94,
   "id": "385681b9",
   "metadata": {},
   "outputs": [
    {
     "data": {
      "text/plain": [
       "[{'mem_id': 'l001', 'mem_name': '구길동', 'mem_add1': '충남금산군 금산읍'},\n",
       " {'mem_id': 'u001', 'mem_name': '김성욱', 'mem_add1': '대전시 동구 용전동'},\n",
       " {'mem_id': 'j001', 'mem_name': '김윤희', 'mem_add1': '대전시 서구 삼천동'},\n",
       " {'mem_id': 'a001', 'mem_name': '김은대', 'mem_add1': '대전시 동구 용운동'},\n",
       " {'mem_id': 'w001', 'mem_name': '김형모', 'mem_add1': '대전시 대덕구 연축동'},\n",
       " {'mem_id': 'h001', 'mem_name': '라준호', 'mem_add1': '충남 논산시 양촌면'},\n",
       " {'mem_id': 'm001', 'mem_name': '박지은', 'mem_add1': '대전광역시 서구 갈마동'},\n",
       " {'mem_id': 'o001', 'mem_name': '배인정', 'mem_add1': '대전시 서구 갈마동'},\n",
       " {'mem_id': 't001', 'mem_name': '성원태', 'mem_add1': '대전광역시 중구 유천동'},\n",
       " {'mem_id': 'd001', 'mem_name': '성윤미', 'mem_add1': '대전시 중구 하늘동 '},\n",
       " {'mem_id': 'g001', 'mem_name': '송경희', 'mem_add1': '충남금산군 제원면'},\n",
       " {'mem_id': 'f001', 'mem_name': '신영남', 'mem_add1': '대전광역시 대흥동'},\n",
       " {'mem_id': 'c001', 'mem_name': '신용환', 'mem_add1': '대전광역시 중구 대흥동'},\n",
       " {'mem_id': 's001', 'mem_name': '안은정', 'mem_add1': '대구광역시 서구 탄방동'},\n",
       " {'mem_id': 'p001', 'mem_name': '오성순', 'mem_add1': '대전유성구송강동'},\n",
       " {'mem_id': 'k001', 'mem_name': '오철희', 'mem_add1': '대전시 대덕구 대화동'},\n",
       " {'mem_id': 'q001', 'mem_name': '육평회', 'mem_add1': '대구광역시 대덕구 중리동'},\n",
       " {'mem_id': 'b001', 'mem_name': '이쁜이', 'mem_add1': '서울시 천사동 예쁜마을'},\n",
       " {'mem_id': 'v001', 'mem_name': '이진영', 'mem_add1': '대전시 동구 용전동'},\n",
       " {'mem_id': 'e001', 'mem_name': '이혜나', 'mem_add1': '대전시 대덕구 읍내동'},\n",
       " {'mem_id': 'r001', 'mem_name': '정은실', 'mem_add1': '대전시 동구 용전동'},\n",
       " {'mem_id': 'x001', 'mem_name': '진현경', 'mem_add1': '대전광역시 동구 오정동'},\n",
       " {'mem_id': 'i001', 'mem_name': '최지현', 'mem_add1': '대전시 동구 가양1동'},\n",
       " {'mem_id': 'n001', 'mem_name': '탁원재', 'mem_add1': '대전시 동구 자양동'}]"
      ]
     },
     "execution_count": 94,
     "metadata": {},
     "output_type": "execute_result"
    }
   ],
   "source": [
    "### html에서 사용할 수 있도록 하기 위해서\n",
    "# - [{\"mem_id\": \"a001\", \"mem_name\" : \"asdfasdf\", \"mem_add1\" : \"광주\"},\n",
    "#   {\"mem_id\": \"a002\", \"mem_name\" : \"asdfasdf\", \"mem_add2\" : \"광주\"},\n",
    "#   {},{}.....] 형태로 변환하기\n",
    "# - 최종 결과값을 담을 변수면 : list_row = []\n",
    "list_row = []\n",
    "for t in rows:\n",
    "    dict_temp = {}\n",
    "    for i in range(0, len(col), 1):\n",
    "#         print(col[i], t[i])\n",
    "        dict_temp[col[i]] = t[i]\n",
    "    list_row.append(dict_temp)\n",
    "list_row"
   ]
  },
  {
   "cell_type": "code",
   "execution_count": 98,
   "id": "4d928e71",
   "metadata": {},
   "outputs": [],
   "source": [
    "### 회원정보에서 회원아이디가 'a001'에 대한 회원아이디, 회원이름, 회원주소1 조회하기\n",
    "# --> 한건 조회 --> 튜플형태로 가져와줌\n",
    "sql = \"\"\"\n",
    "    Select mem_id, mem_name, mem_add1\n",
    "    From member\n",
    "    Where mem_id = 'a001'\n",
    "\"\"\""
   ]
  },
  {
   "cell_type": "code",
   "execution_count": 99,
   "id": "9d2bca03",
   "metadata": {},
   "outputs": [
    {
     "data": {
      "text/plain": [
       "<cx_Oracle.Cursor on <cx_Oracle.Connection to gwangju_a@(DESCRIPTION=(ADDRESS=(PROTOCOL=TCP)(HOST=localhost)(PORT=1521))(CONNECT_DATA=(SID=xe)))>>"
      ]
     },
     "execution_count": 99,
     "metadata": {},
     "output_type": "execute_result"
    }
   ],
   "source": [
    "cursor.execute(sql)"
   ]
  },
  {
   "cell_type": "code",
   "execution_count": 101,
   "id": "15ca1af5",
   "metadata": {},
   "outputs": [],
   "source": [
    "row = cursor.fetchone()"
   ]
  },
  {
   "cell_type": "code",
   "execution_count": 102,
   "id": "5b0355c4",
   "metadata": {},
   "outputs": [
    {
     "data": {
      "text/plain": [
       "('a001', '김은대', '대전시 동구 용운동')"
      ]
     },
     "execution_count": 102,
     "metadata": {},
     "output_type": "execute_result"
    }
   ],
   "source": [
    "row"
   ]
  },
  {
   "cell_type": "code",
   "execution_count": 103,
   "id": "b739b49f",
   "metadata": {},
   "outputs": [],
   "source": [
    "colname = cursor.description"
   ]
  },
  {
   "cell_type": "code",
   "execution_count": 104,
   "id": "e85a7d67",
   "metadata": {},
   "outputs": [
    {
     "data": {
      "text/plain": [
       "[('MEM_ID', <cx_Oracle.DbType DB_TYPE_VARCHAR>, 15, 15, None, None, 0),\n",
       " ('MEM_NAME', <cx_Oracle.DbType DB_TYPE_VARCHAR>, 20, 20, None, None, 0),\n",
       " ('MEM_ADD1', <cx_Oracle.DbType DB_TYPE_VARCHAR>, 100, 100, None, None, 0)]"
      ]
     },
     "execution_count": 104,
     "metadata": {},
     "output_type": "execute_result"
    }
   ],
   "source": [
    "colname"
   ]
  },
  {
   "cell_type": "code",
   "execution_count": 113,
   "id": "9b13d4c2",
   "metadata": {},
   "outputs": [
    {
     "data": {
      "text/plain": [
       "['mem_id', 'mem_name', 'mem_add1']"
      ]
     },
     "execution_count": 113,
     "metadata": {},
     "output_type": "execute_result"
    }
   ],
   "source": [
    "### 한건 조회 결과를 딕셔너리 형태로 변환하기\n",
    "# 최종 변수이름 : dict_row\n",
    "\n",
    "### 컬럼명만 조회\n",
    "col = []\n",
    "for t in colname:\n",
    "    # col 리스트 변수에 값을 추가하기 : append(값) 사용\n",
    "    col.append(t[0].lower())\n",
    "col"
   ]
  },
  {
   "cell_type": "code",
   "execution_count": 114,
   "id": "3ce3bccc",
   "metadata": {},
   "outputs": [
    {
     "data": {
      "text/plain": [
       "{'mem_id': 'a001', 'mem_name': '김은대', 'mem_add1': '대전시 동구 용운동'}"
      ]
     },
     "execution_count": 114,
     "metadata": {},
     "output_type": "execute_result"
    }
   ],
   "source": [
    "### 딕셔너리로 변환\n",
    "dict_row = {}\n",
    "for i in range(0, len(col),1):\n",
    "    dict_row[coln[i]]= row[i]\n",
    "dict_row"
   ]
  },
  {
   "cell_type": "markdown",
   "id": "edfd5222",
   "metadata": {},
   "source": [
    "### 함수로 기능 정의하기"
   ]
  },
  {
   "cell_type": "markdown",
   "id": "8e861970",
   "metadata": {},
   "source": [
    "### - DB접속 기능 함수 정의"
   ]
  },
  {
   "cell_type": "code",
   "execution_count": 115,
   "id": "c5dd78f7",
   "metadata": {},
   "outputs": [],
   "source": [
    "def getDBConn_Cursor() :\n",
    "    dsn = cx_Oracle.makedsn(\"localhost\",1521,\"xe\")\n",
    "    conn = cx_Oracle.connect(\"gwangju_a\",\"dbdb\",dsn) \n",
    "    cursor = conn.cursor()\n",
    "    return conn, cursor"
   ]
  },
  {
   "cell_type": "markdown",
   "id": "42e9c761",
   "metadata": {},
   "source": [
    "##### - 조회결과에서 컬럼명 추출하기 기능 정의"
   ]
  },
  {
   "cell_type": "code",
   "execution_count": 116,
   "id": "d23f206a",
   "metadata": {},
   "outputs": [],
   "source": [
    "def getColName(cursor):\n",
    "    col = []\n",
    "    for t in cursor.description :\n",
    "        col.append(t[0].lower())\n",
    "    return col"
   ]
  },
  {
   "cell_type": "markdown",
   "id": "5ef8b414",
   "metadata": {},
   "source": [
    "##### - \"한건 조회\"시 딕셔너리로 변환하는 기능 정의"
   ]
  },
  {
   "cell_type": "code",
   "execution_count": 128,
   "id": "72d959de",
   "metadata": {},
   "outputs": [],
   "source": [
    "def getFetchOne(cursor, row):\n",
    "    # 컬럼명 조회 함수 호출\n",
    "    col = getColName(cursor)\n",
    "    \n",
    "    dict_row = {}\n",
    "    for i in range(0, len(col),1):\n",
    "        dict_row[col[i]]= row[i]\n",
    "        \n",
    "    return dict_row"
   ]
  },
  {
   "cell_type": "markdown",
   "id": "93e2e470",
   "metadata": {},
   "source": [
    "##### - \"여러건 조회\"시 리스트의 딕셔너리로 변환하는 기능 정의"
   ]
  },
  {
   "cell_type": "code",
   "execution_count": 129,
   "id": "c53a6b07",
   "metadata": {},
   "outputs": [],
   "source": [
    "def getFetchAll(cursor, rows):\n",
    "     # 컬럼명 조회 함수 호출\n",
    "    col = getColName(cursor)\n",
    "    \n",
    "    list_row = []\n",
    "    for t in rows:\n",
    "        dict_temp = {}\n",
    "        for i in range(0, len(col), 1):\n",
    "            dict_temp[col[i]] = t[i]\n",
    "        list_row.append(dict_temp)\n",
    "        \n",
    "    return list_row"
   ]
  },
  {
   "cell_type": "markdown",
   "id": "e85e87a8",
   "metadata": {},
   "source": [
    "##### - 커서 및 connect 접속 해제하는 기능 정의"
   ]
  },
  {
   "cell_type": "code",
   "execution_count": 130,
   "id": "53436521",
   "metadata": {},
   "outputs": [],
   "source": [
    "def DBClose(cursor, conn):\n",
    "    ### 커서(cursor)반환하기\n",
    "    cursor.close()\n",
    "    \n",
    "    ### 접속(connect) 접속 해제\n",
    "    conn.close()"
   ]
  },
  {
   "cell_type": "markdown",
   "id": "82845018",
   "metadata": {},
   "source": [
    "### 6. 커서 반환 > DB Connection 접속 해제"
   ]
  },
  {
   "cell_type": "code",
   "execution_count": 131,
   "id": "6cae03b8",
   "metadata": {},
   "outputs": [],
   "source": [
    "### 커서(cursor)반환하기\n",
    "cursor.close()\n",
    "### 접속(connect) 접속 해제\n",
    "conn.close()"
   ]
  },
  {
   "cell_type": "markdown",
   "id": "70543c43",
   "metadata": {},
   "source": [
    "### 함수 호출 방식으로 프로그래밍하기"
   ]
  },
  {
   "cell_type": "code",
   "execution_count": 132,
   "id": "3ad8d9d9",
   "metadata": {},
   "outputs": [
    {
     "name": "stdout",
     "output_type": "stream",
     "text": [
      "{'mem_id': 'l001', 'mem_name': '구길동', 'mem_add1': '충남금산군 금산읍'}\n"
     ]
    }
   ],
   "source": [
    "### DB 접속 정보 받아오기\n",
    "conn, cursor = getDBConn_Cursor()\n",
    "\n",
    "### 구문 작성\n",
    "\"\"\"\n",
    "    select mem_id, mem_name, mem_add1\n",
    "    From member\n",
    "    Where mem_id = 'a001'\n",
    "\"\"\"\n",
    "### 구문 실행하기\n",
    "cursor.execute(sql)\n",
    "\n",
    "### 결과 추출하기\n",
    "row = cursor.fetchone()\n",
    "\n",
    "### 딕셔너리로 변경하기\n",
    "dict_row = getFetchOne(cursor, row)\n",
    "print(dict_row)\n",
    "\n",
    "### DB 접속 해제하기\n",
    "DBClose(cursor, conn)"
   ]
  }
 ],
 "metadata": {
  "kernelspec": {
   "display_name": "gj_django_kernel",
   "language": "python",
   "name": "gj_django"
  },
  "language_info": {
   "codemirror_mode": {
    "name": "ipython",
    "version": 3
   },
   "file_extension": ".py",
   "mimetype": "text/x-python",
   "name": "python",
   "nbconvert_exporter": "python",
   "pygments_lexer": "ipython3",
   "version": "3.9.16"
  }
 },
 "nbformat": 4,
 "nbformat_minor": 5
}
