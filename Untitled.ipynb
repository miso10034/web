{
 "cells": [
  {
   "cell_type": "code",
   "execution_count": 1,
   "id": "aa235904-2c00-4b63-88a7-7aa0b791faa3",
   "metadata": {},
   "outputs": [],
   "source": [
    "# for 문으로 실행할 수 있는 4가지 -> 1.딕셔너리, 2.리스트 3. 튜플 4. 문자열\n",
    "# 여러개를 넣을 수 있는 값들 -> for문 가능, index number 부여 가능\n",
    "# for k in d.keys(); 형태로 딕셔너리 접근"
   ]
  },
  {
   "cell_type": "code",
   "execution_count": 2,
   "id": "94a5cc0f-eb20-4343-b083-82b0d4849675",
   "metadata": {},
   "outputs": [
    {
     "ename": "NameError",
     "evalue": "name 'list_v2' is not defined",
     "output_type": "error",
     "traceback": [
      "\u001b[1;31m---------------------------------------------------------------------------\u001b[0m",
      "\u001b[1;31mNameError\u001b[0m                                 Traceback (most recent call last)",
      "Cell \u001b[1;32mIn[2], line 6\u001b[0m\n\u001b[0;32m      1\u001b[0m \u001b[39m# \"강감찬1\"값이 있는 key와 value값만 출력해 주세요\u001b[39;00m\n\u001b[0;32m      2\u001b[0m \u001b[39m# 답 : key : 1 / value : 강감찬1\u001b[39;00m\n\u001b[0;32m      3\u001b[0m \u001b[39m# d.keys()\u001b[39;00m\n\u001b[0;32m      4\u001b[0m \u001b[39m# k=2 -> d[2] -> \"강감찬1\"\u001b[39;00m\n\u001b[1;32m----> 6\u001b[0m \u001b[39mfor\u001b[39;00m d \u001b[39min\u001b[39;00m list_v2:\n\u001b[0;32m      7\u001b[0m     \u001b[39mprint\u001b[39m(d)\n\u001b[0;32m      8\u001b[0m     \u001b[39mfor\u001b[39;00m k \u001b[39min\u001b[39;00m d\u001b[39m.\u001b[39mkeys():\n",
      "\u001b[1;31mNameError\u001b[0m: name 'list_v2' is not defined"
     ]
    }
   ],
   "source": [
    "# \"강감찬1\"값이 있는 key와 value값만 출력해 주세요\n",
    "# 답 : key : 1 / value : 강감찬1\n",
    "# d.keys()\n",
    "# k=2 -> d[2] -> \"강감찬1\"\n",
    "\n",
    "for d in list_v2:\n",
    "    print(d)\n",
    "    for k in d.keys():\n",
    "        if d[k] == \"강감찬1\":\n",
    "            print(k, \" : \",d[k])"
   ]
  },
  {
   "cell_type": "code",
   "execution_count": null,
   "id": "b94a167d-95c6-4257-884e-4b34581038a2",
   "metadata": {},
   "outputs": [
    {
     "name": "stdout",
     "output_type": "stream",
     "text": [
      "dict_values(['홍길동1', '홍길동2'])\n",
      "dict_values(['이순신1', '이순신2'])\n",
      "dict_values(['강감찬1', '강감찬2'])\n"
     ]
    },
    {
     "data": {
      "text/plain": [
       "False"
      ]
     },
     "execution_count": 23,
     "metadata": {},
     "output_type": "execute_result"
    }
   ],
   "source": [
    "# \"강감찬1\"이라는 값이 포함되어 있는 부분의 딕셔너리의 전체 key와 value를 출력하기\n",
    "# 답 :\n",
    "# key : 1 / value : 강감찬1\n",
    "# key : 2 / value : 강감찬2\n",
    "\n",
    "for d in list_v2:\n",
    "    print(d.values())\n",
    "    \n",
    "\"aaa\" in [\"aaac\",\"bbb\",\"ccc\"]"
   ]
  },
  {
   "cell_type": "code",
   "execution_count": null,
   "id": "0d9893af-a2a5-40a9-8415-d02140a08f4a",
   "metadata": {},
   "outputs": [
    {
     "name": "stdout",
     "output_type": "stream",
     "text": [
      "1  :  강감찬1\n",
      "2  :  강감찬2\n"
     ]
    }
   ],
   "source": [
    "# list_v2안에 강감찬1의 값이 있으면 true 없으면 false\n",
    "for d in list_v2:\n",
    "    if \"강감찬1\" in d.values() :\n",
    "        # print(d.values(), \"강감찬1\" in d.values())\n",
    "        for k in d.keys():\n",
    "            print(k, \" : \",d[k])"
   ]
  },
  {
   "cell_type": "code",
   "execution_count": null,
   "id": "216f7f92-656b-4199-9830-b2e7982fb999",
   "metadata": {},
   "outputs": [],
   "source": [
    "### [문제] key값이 1~100까지, value값이 홍길동1~홍길동100까지의 값 생성하기\n",
    "# {1:\"홍길동1\", 2:\"홍길동2\",~100:\"홍길동100\"}\n",
    "# 딕셔너리 변수명 : dict_100\n",
    "# 딕셔너리는 키값이 다르면 계속 추가된다."
   ]
  },
  {
   "cell_type": "code",
   "execution_count": null,
   "id": "1bc29c27-a8dc-4e86-8f2c-c67abb2fa33d",
   "metadata": {
    "tags": []
   },
   "outputs": [
    {
     "name": "stdout",
     "output_type": "stream",
     "text": [
      "{1: '홍길동1', 2: '홍길동2', 3: '홍길동3', 4: '홍길동4', 5: '홍길동5', 6: '홍길동6', 7: '홍길동7', 8: '홍길동8', 9: '홍길동9', 10: '홍길동10', 11: '홍길동11', 12: '홍길동12', 13: '홍길동13', 14: '홍길동14', 15: '홍길동15', 16: '홍길동16', 17: '홍길동17', 18: '홍길동18', 19: '홍길동19', 20: '홍길동20', 21: '홍길동21', 22: '홍길동22', 23: '홍길동23', 24: '홍길동24', 25: '홍길동25', 26: '홍길동26', 27: '홍길동27', 28: '홍길동28', 29: '홍길동29', 30: '홍길동30', 31: '홍길동31', 32: '홍길동32', 33: '홍길동33', 34: '홍길동34', 35: '홍길동35', 36: '홍길동36', 37: '홍길동37', 38: '홍길동38', 39: '홍길동39', 40: '홍길동40', 41: '홍길동41', 42: '홍길동42', 43: '홍길동43', 44: '홍길동44', 45: '홍길동45', 46: '홍길동46', 47: '홍길동47', 48: '홍길동48', 49: '홍길동49', 50: '홍길동50', 51: '홍길동51', 52: '홍길동52', 53: '홍길동53', 54: '홍길동54', 55: '홍길동55', 56: '홍길동56', 57: '홍길동57', 58: '홍길동58', 59: '홍길동59', 60: '홍길동60', 61: '홍길동61', 62: '홍길동62', 63: '홍길동63', 64: '홍길동64', 65: '홍길동65', 66: '홍길동66', 67: '홍길동67', 68: '홍길동68', 69: '홍길동69', 70: '홍길동70', 71: '홍길동71', 72: '홍길동72', 73: '홍길동73', 74: '홍길동74', 75: '홍길동75', 76: '홍길동76', 77: '홍길동77', 78: '홍길동78', 79: '홍길동79', 80: '홍길동80', 81: '홍길동81', 82: '홍길동82', 83: '홍길동83', 84: '홍길동84', 85: '홍길동85', 86: '홍길동86', 87: '홍길동87', 88: '홍길동88', 89: '홍길동89', 90: '홍길동90', 91: '홍길동91', 92: '홍길동92', 93: '홍길동93', 94: '홍길동94', 95: '홍길동95', 96: '홍길동96', 97: '홍길동97', 98: '홍길동98', 99: '홍길동99', 100: '홍길동100'}\n"
     ]
    }
   ],
   "source": [
    "dict_100 = {}\n",
    "for i in range(1,101, 1):\n",
    "    dict_100[i] = \"홍길동{}\".format(i)\n",
    "print(dict_100)"
   ]
  },
  {
   "cell_type": "code",
   "execution_count": null,
   "id": "699cc38e-617c-4016-99cc-20ba820ac98d",
   "metadata": {
    "collapsed": true,
    "jupyter": {
     "outputs_hidden": true
    },
    "tags": []
   },
   "outputs": [
    {
     "data": {
      "text/plain": [
       "{1: '홍길동1',\n",
       " 2: '홍길동2',\n",
       " 3: '홍길동3',\n",
       " 4: '홍길동4',\n",
       " 5: '홍길동5',\n",
       " 6: '홍길동6',\n",
       " 7: '홍길동7',\n",
       " 8: '홍길동8',\n",
       " 9: '홍길동9',\n",
       " 10: '홍길동10',\n",
       " 11: '홍길동11',\n",
       " 12: '홍길동12',\n",
       " 13: '홍길동13',\n",
       " 14: '홍길동14',\n",
       " 15: '홍길동15',\n",
       " 16: '홍길동16',\n",
       " 17: '홍길동17',\n",
       " 18: '홍길동18',\n",
       " 19: '홍길동19',\n",
       " 20: '홍길동20',\n",
       " 21: '홍길동21',\n",
       " 22: '홍길동22',\n",
       " 23: '홍길동23',\n",
       " 24: '홍길동24',\n",
       " 25: '홍길동25',\n",
       " 26: '홍길동26',\n",
       " 27: '홍길동27',\n",
       " 28: '홍길동28',\n",
       " 29: '홍길동29',\n",
       " 30: '홍길동30',\n",
       " 31: '홍길동31',\n",
       " 32: '홍길동32',\n",
       " 33: '홍길동33',\n",
       " 34: '홍길동34',\n",
       " 35: '홍길동35',\n",
       " 36: '홍길동36',\n",
       " 37: '홍길동37',\n",
       " 38: '홍길동38',\n",
       " 39: '홍길동39',\n",
       " 40: '홍길동40',\n",
       " 41: '홍길동41',\n",
       " 42: '홍길동42',\n",
       " 43: '홍길동43',\n",
       " 44: '홍길동44',\n",
       " 45: '홍길동45',\n",
       " 46: '홍길동46',\n",
       " 47: '홍길동47',\n",
       " 48: '홍길동48',\n",
       " 49: '홍길동49',\n",
       " 50: '홍길동50',\n",
       " 51: '홍길동51',\n",
       " 52: '홍길동52',\n",
       " 53: '홍길동53',\n",
       " 54: '홍길동54',\n",
       " 55: '홍길동55',\n",
       " 56: '홍길동56',\n",
       " 57: '홍길동57',\n",
       " 58: '홍길동58',\n",
       " 59: '홍길동59',\n",
       " 60: '홍길동60',\n",
       " 61: '홍길동61',\n",
       " 62: '홍길동62',\n",
       " 63: '홍길동63',\n",
       " 64: '홍길동64',\n",
       " 65: '홍길동65',\n",
       " 66: '홍길동66',\n",
       " 67: '홍길동67',\n",
       " 68: '홍길동68',\n",
       " 69: '홍길동69',\n",
       " 70: '홍길동70',\n",
       " 71: '홍길동71',\n",
       " 72: '홍길동72',\n",
       " 73: '홍길동73',\n",
       " 74: '홍길동74',\n",
       " 75: '홍길동75',\n",
       " 76: '홍길동76',\n",
       " 77: '홍길동77',\n",
       " 78: '홍길동78',\n",
       " 79: '홍길동79',\n",
       " 80: '홍길동80',\n",
       " 81: '홍길동81',\n",
       " 82: '홍길동82',\n",
       " 83: '홍길동83',\n",
       " 84: '홍길동84',\n",
       " 85: '홍길동85',\n",
       " 86: '홍길동86',\n",
       " 87: '홍길동87',\n",
       " 88: '홍길동88',\n",
       " 89: '홍길동89',\n",
       " 90: '홍길동90',\n",
       " 91: '홍길동91',\n",
       " 92: '홍길동92',\n",
       " 93: '홍길동93',\n",
       " 94: '홍길동94',\n",
       " 95: '홍길동95',\n",
       " 96: '홍길동96',\n",
       " 97: '홍길동97',\n",
       " 98: '홍길동98',\n",
       " 99: '홍길동99',\n",
       " 100: '홍길동100'}"
      ]
     },
     "execution_count": 107,
     "metadata": {},
     "output_type": "execute_result"
    }
   ],
   "source": [
    "dict_100"
   ]
  },
  {
   "cell_type": "code",
   "execution_count": null,
   "id": "77283f9f-8884-4fb4-ac6f-1946be075550",
   "metadata": {},
   "outputs": [
    {
     "name": "stdout",
     "output_type": "stream",
     "text": [
      "5050\n"
     ]
    }
   ],
   "source": [
    "### 1부터 100까지의 합의 결과를 출력해 주세요\n",
    "# 1+2+3+4...+100 = ?\n",
    "i=1\n",
    "sum=0\n",
    "for i in range(1,101,1):\n",
    "    sum += i\n",
    "print(sum)"
   ]
  },
  {
   "cell_type": "code",
   "execution_count": null,
   "id": "82f4b242-6581-43a4-8735-b680f08653b2",
   "metadata": {},
   "outputs": [
    {
     "name": "stdout",
     "output_type": "stream",
     "text": [
      "dict_v1 =  {1: '홍길동1', 2: '홍길동2'}\n",
      "dict_v2 =  {1: '이순신1', 2: '이순신2'}\n",
      "dict_v3 =  {1: '강감찬1', 2: '강감찬2'}\n",
      "list_v2 =  [{1: '홍길동1', 2: '홍길동2'}, {1: '이순신1', 2: '이순신2'}, {1: '강감찬1', 2: '강감찬2'}]\n"
     ]
    }
   ],
   "source": [
    "\"\"\" 아래 처럼 만들어 값을 넣어서 만들어 주세요 \n",
    "[{1: '홍길동1', 2:' 홍길동2'},\n",
    " {1: '이순신1', 2: '이순신2'},\n",
    " {1: '강감찬1', 2: '강감찬2'}]\n",
    " \"\"\"\n",
    "\n",
    "list_v2 = []\n",
    "dict_v1 = {}\n",
    "dict_v2 = {}\n",
    "dict_v3 = {}\n",
    "\n",
    "# {1: '홍길동1', 2:' 홍길동2'}\n",
    "dict_v1[1] = '홍길동1'\n",
    "dict_v1[2] = '홍길동2'\n",
    "print(\"dict_v1 = \", dict_v1)\n",
    "\n",
    "dict_v2[1] = '이순신1'\n",
    "dict_v2[2] = '이순신2'\n",
    "print(\"dict_v2 = \", dict_v2)\n",
    "\n",
    "dict_v3[1] = '강감찬1'\n",
    "dict_v3[2] = '강감찬2'\n",
    "print(\"dict_v3 = \", dict_v3)\n",
    "\n",
    "list_v2.append(dict_v1)\n",
    "list_v2.append(dict_v2)\n",
    "list_v2.append(dict_v3)\n",
    "print(\"list_v2 = \", list_v2)"
   ]
  },
  {
   "cell_type": "code",
   "execution_count": null,
   "id": "3632880e",
   "metadata": {},
   "outputs": [
    {
     "name": "stdout",
     "output_type": "stream",
     "text": [
      "[{1: '홍길동1', 2: '홍길동2'}, {1: '이순신1', 2: '이순신2'}, {1: '강감찬1', 2: '강감찬2'}]\n"
     ]
    }
   ],
   "source": [
    "print(list_v2)"
   ]
  },
  {
   "cell_type": "code",
   "execution_count": null,
   "id": "a172b831",
   "metadata": {},
   "outputs": [
    {
     "name": "stdout",
     "output_type": "stream",
     "text": [
      "key : 1 / values : 홍길동1\n",
      "key : 2 / values : 홍길동2\n",
      "key : 1 / values : 이순신1\n",
      "key : 2 / values : 이순신2\n",
      "key : 1 / values : 강감찬1\n",
      "key : 2 / values : 강감찬2\n"
     ]
    }
   ],
   "source": [
    "\"\"\"\n",
    "key : 1 / values : 홍길동1\n",
    "key : 2 / values : 홍길동2\n",
    "key : 1 / values : 이순신1\n",
    "key : 2 / values : 이순신2\n",
    "key : 1 / values : 강감찬1\n",
    "key : 2 / values : 강감찬2\n",
    "\"\"\"\n",
    "# for i in list_v2:\n",
    "#     # print(i)\n",
    "#     for k in i:\n",
    "#         print(\"key : \")\n",
    "for d in list_v2:\n",
    "    for k in d.keys():\n",
    "        print(\"key : {} / values : {}\".format(k,d[k]))\n"
   ]
  },
  {
   "cell_type": "code",
   "execution_count": null,
   "id": "5f59f4c8",
   "metadata": {},
   "outputs": [
    {
     "name": "stdout",
     "output_type": "stream",
     "text": [
      "{1: '홍길동1', 2: '홍길동2'}\n",
      "{1: '이순신1', 2: '이순신2'}\n",
      "{1: '강감찬1', 2: '강감찬2'}\n"
     ]
    }
   ],
   "source": [
    "for d in list_v2:\n",
    "    # print(d.keys())\n",
    "    print(d)"
   ]
  },
  {
   "cell_type": "code",
   "execution_count": null,
   "id": "682de908",
   "metadata": {},
   "outputs": [
    {
     "name": "stdout",
     "output_type": "stream",
     "text": [
      "1 강감찬1\n",
      "2 강감찬2\n"
     ]
    }
   ],
   "source": [
    "for k in d.keys():\n",
    "    print(k,d[k]) # d[1] -> '홍길동1'"
   ]
  },
  {
   "cell_type": "code",
   "execution_count": null,
   "id": "2b70060d",
   "metadata": {},
   "outputs": [
    {
     "name": "stdout",
     "output_type": "stream",
     "text": [
      "2X1=2\n",
      "2X2=4\n",
      "2X3=6\n",
      "2X4=8\n",
      "2X5=10\n",
      "2X6=12\n",
      "2X7=14\n",
      "2X8=16\n",
      "2X9=18\n",
      "\n",
      "3X1=3\n",
      "3X2=6\n",
      "3X3=9\n",
      "3X4=12\n",
      "3X5=15\n",
      "3X6=18\n",
      "3X7=21\n",
      "3X8=24\n",
      "3X9=27\n",
      "\n",
      "4X1=4\n",
      "4X2=8\n",
      "4X3=12\n",
      "4X4=16\n",
      "4X5=20\n",
      "4X6=24\n",
      "4X7=28\n",
      "4X8=32\n",
      "4X9=36\n",
      "\n",
      "5X1=5\n",
      "5X2=10\n",
      "5X3=15\n",
      "5X4=20\n",
      "5X5=25\n",
      "5X6=30\n",
      "5X7=35\n",
      "5X8=40\n",
      "5X9=45\n",
      "\n",
      "6X1=6\n",
      "6X2=12\n",
      "6X3=18\n",
      "6X4=24\n",
      "6X5=30\n",
      "6X6=36\n",
      "6X7=42\n",
      "6X8=48\n",
      "6X9=54\n",
      "\n",
      "7X1=7\n",
      "7X2=14\n",
      "7X3=21\n",
      "7X4=28\n",
      "7X5=35\n",
      "7X6=42\n",
      "7X7=49\n",
      "7X8=56\n",
      "7X9=63\n",
      "\n",
      "8X1=8\n",
      "8X2=16\n",
      "8X3=24\n",
      "8X4=32\n",
      "8X5=40\n",
      "8X6=48\n",
      "8X7=56\n",
      "8X8=64\n",
      "8X9=72\n",
      "\n",
      "9X1=9\n",
      "9X2=18\n",
      "9X3=27\n",
      "9X4=36\n",
      "9X5=45\n",
      "9X6=54\n",
      "9X7=63\n",
      "9X8=72\n",
      "9X9=81\n",
      "\n"
     ]
    }
   ],
   "source": [
    "\"\"\" \n",
    "구구단\n",
    "아래와 같은 형태로 출력되도록 구구단 만들기\n",
    "\"\"\"\n",
    "for i in range(2,10):\n",
    "    for j in range(1,10):\n",
    "        print(\"{}X{}={}\".format(i,j,i*j))\n",
    "    print(\"\")    "
   ]
  },
  {
   "cell_type": "code",
   "execution_count": null,
   "id": "e99feb06",
   "metadata": {},
   "outputs": [
    {
     "name": "stdout",
     "output_type": "stream",
     "text": [
      "0 1 2 3 4 5 6 7 8 9 "
     ]
    }
   ],
   "source": [
    "for i in range(0,10,1):\n",
    "    print(i, end=' ')\n",
    "# end='구분자' --> 구분자를 붙여서 옆으로 붙이기"
   ]
  },
  {
   "cell_type": "code",
   "execution_count": null,
   "id": "1d436b67",
   "metadata": {},
   "outputs": [],
   "source": []
  },
  {
   "cell_type": "code",
   "execution_count": null,
   "id": "2e65c7ea",
   "metadata": {},
   "outputs": [
    {
     "name": "stdout",
     "output_type": "stream",
     "text": [
      "2X1=2  2X2=4  2X3=6  2X4=8  2X5=10  2X6=12  2X7=14  2X8=16  2X9=18   \n",
      "3X1=3  3X2=6  3X3=9  3X4=12  3X5=15  3X6=18  3X7=21  3X8=24  3X9=27   \n",
      "4X1=4  4X2=8  4X3=12  4X4=16  4X5=20  4X6=24  4X7=28  4X8=32  4X9=36   \n",
      "5X1=5  5X2=10  5X3=15  5X4=20  5X5=25  5X6=30  5X7=35  5X8=40  5X9=45   \n",
      "6X1=6  6X2=12  6X3=18  6X4=24  6X5=30  6X6=36  6X7=42  6X8=48  6X9=54   \n",
      "7X1=7  7X2=14  7X3=21  7X4=28  7X5=35  7X6=42  7X7=49  7X8=56  7X9=63   \n",
      "8X1=8  8X2=16  8X3=24  8X4=32  8X5=40  8X6=48  8X7=56  8X8=64  8X9=72   \n",
      "9X1=9  9X2=18  9X3=27  9X4=36  9X5=45  9X6=54  9X7=63  9X8=72  9X9=81   \n"
     ]
    }
   ],
   "source": [
    "### 단이 끝날때 마다 줄바꿈, 하나의 단은 옆으로 붙여서 보여주기\n",
    "for i in range(2,10):\n",
    "    for j in range(1,10):\n",
    "        print(\"{}X{}={} \".format(i,j,i*j), end=\" \")\n",
    "    print(\" \")"
   ]
  },
  {
   "cell_type": "code",
   "execution_count": null,
   "id": "f7de95db",
   "metadata": {},
   "outputs": [
    {
     "name": "stdout",
     "output_type": "stream",
     "text": [
      "2X1=2  3X1=3  4X1=4  5X1=5  6X1=6  7X1=7  8X1=8  9X1=9   \n",
      "2X2=4  3X2=6  4X2=8  5X2=10  6X2=12  7X2=14  8X2=16  9X2=18   \n",
      "2X3=6  3X3=9  4X3=12  5X3=15  6X3=18  7X3=21  8X3=24  9X3=27   \n",
      "2X4=8  3X4=12  4X4=16  5X4=20  6X4=24  7X4=28  8X4=32  9X4=36   \n",
      "2X5=10  3X5=15  4X5=20  5X5=25  6X5=30  7X5=35  8X5=40  9X5=45   \n",
      "2X6=12  3X6=18  4X6=24  5X6=30  6X6=36  7X6=42  8X6=48  9X6=54   \n",
      "2X7=14  3X7=21  4X7=28  5X7=35  6X7=42  7X7=49  8X7=56  9X7=63   \n",
      "2X8=16  3X8=24  4X8=32  5X8=40  6X8=48  7X8=56  8X8=64  9X8=72   \n",
      "2X9=18  3X9=27  4X9=36  5X9=45  6X9=54  7X9=63  8X9=72  9X9=81   \n"
     ]
    }
   ],
   "source": [
    "# 바깥쪽 for문은 고정, 안쪽 for문은 증가\n",
    "for j in range(1,10):\n",
    "    for i in range(2,10):\n",
    "        print(\"{}X{}={} \".format(i,j,i*j), end=\" \")\n",
    "    print(\" \")"
   ]
  },
  {
   "cell_type": "code",
   "execution_count": null,
   "id": "336e778f",
   "metadata": {},
   "outputs": [
    {
     "data": {
      "text/plain": [
       "[['a', 'b', 'c'],\n",
       " {'a': '홍1', 'b': '홍2', 'c': '홍3'},\n",
       " ['a', 'b', 'c'],\n",
       " {'a': '홍1', 'b': '홍2', 'c': '홍3'},\n",
       " {'a': '홍1', 'b': '홍2', 'c': '홍3'},\n",
       " ['a', 'b', 'c']]"
      ]
     },
     "execution_count": 89,
     "metadata": {},
     "output_type": "execute_result"
    }
   ],
   "source": [
    "A = [\"a\",\"b\",\"c\"]\n",
    "B = {\"a\":\"홍1\",\"b\":\"홍2\",\"c\":\"홍3\"}\n",
    "### 위의 A, B를 C 리스트에 임의 순서로 넣기\n",
    "C = [A, B, A, B, B, A]\n",
    "C"
   ]
  },
  {
   "cell_type": "code",
   "execution_count": null,
   "id": "e1decfa2",
   "metadata": {},
   "outputs": [
    {
     "name": "stdout",
     "output_type": "stream",
     "text": [
      "['a', 'b', 'c'] <class 'list'>\n",
      "{'a': '홍1', 'b': '홍2', 'c': '홍3'} <class 'dict'>\n",
      "['a', 'b', 'c'] <class 'list'>\n",
      "{'a': '홍1', 'b': '홍2', 'c': '홍3'} <class 'dict'>\n",
      "{'a': '홍1', 'b': '홍2', 'c': '홍3'} <class 'dict'>\n",
      "['a', 'b', 'c'] <class 'list'>\n"
     ]
    }
   ],
   "source": [
    "### type을 확인해서, type에 맞게 출력 처리하는 로직 만들기\n",
    "for obj in C :\n",
    "    print(obj, type(obj))"
   ]
  },
  {
   "cell_type": "code",
   "execution_count": null,
   "id": "cb0ef86b",
   "metadata": {},
   "outputs": [
    {
     "name": "stdout",
     "output_type": "stream",
     "text": [
      "A =>  a\n",
      "A =>  b\n",
      "A =>  c\n",
      "B => key=a / value=홍1\n",
      "B => key=b / value=홍2\n",
      "B => key=c / value=홍3\n",
      "A =>  a\n",
      "A =>  b\n",
      "A =>  c\n",
      "B => key=a / value=홍1\n",
      "B => key=b / value=홍2\n",
      "B => key=c / value=홍3\n",
      "B => key=a / value=홍1\n",
      "B => key=b / value=홍2\n",
      "B => key=c / value=홍3\n",
      "A =>  a\n",
      "A =>  b\n",
      "A =>  c\n"
     ]
    }
   ],
   "source": [
    "for obj in C :\n",
    "    if type(obj) == list:\n",
    "        for v in obj:\n",
    "            print(\"A => \", v)\n",
    "\n",
    "    elif type(obj) == dict:\n",
    "        for k in obj.keys():\n",
    "            print(\"B => key={} / value={}\".format(k, obj[k]))"
   ]
  },
  {
   "cell_type": "markdown",
   "id": "61086bec",
   "metadata": {},
   "source": [
    "### 함수 만드는 순서"
   ]
  },
  {
   "cell_type": "code",
   "execution_count": null,
   "id": "a77d8b0a",
   "metadata": {},
   "outputs": [],
   "source": [
    "# 1. 함수를 만들기 전에 프로그램을 별도로 테스트\n",
    "# 2. 프로그램이 잘 수행되면, 그대로 복사해서 함수로 감싸기\n",
    "# 3. 함수 호출 테스트\n",
    "# 4. 결과 확인"
   ]
  },
  {
   "cell_type": "markdown",
   "id": "07c854ec",
   "metadata": {},
   "source": [
    "### 함수 내부 프로그래밍 규칙"
   ]
  },
  {
   "cell_type": "code",
   "execution_count": null,
   "id": "ba8a731d",
   "metadata": {},
   "outputs": [],
   "source": [
    "# 텍스트와 같은 고정된 값은 사용하지 않음\n",
    "# 매개변수의 변수를 사용해서 자동화 시켜야 함"
   ]
  },
  {
   "cell_type": "code",
   "execution_count": null,
   "id": "7f29f3fb",
   "metadata": {},
   "outputs": [],
   "source": [
    "### 함수 생성 문법\n",
    "\"\"\"\n",
    "def 함수이름(매개변수1, 매개변수2,...):\n",
    "    기능을 처리할 프로그래밍\n",
    "    return 값1, 값2,,,,,,\n",
    "\"\"\""
   ]
  },
  {
   "cell_type": "code",
   "execution_count": null,
   "id": "b7443881",
   "metadata": {},
   "outputs": [],
   "source": [
    "### 정수값 2개를 받아서 합한 값을 리턴해 주는 함수 생성\n",
    "# 합한 값을 리턴해 주는 함수 생성\n",
    "# 함수 이름: getPlus"
   ]
  },
  {
   "cell_type": "code",
   "execution_count": null,
   "id": "34e3da0e",
   "metadata": {},
   "outputs": [
    {
     "name": "stdout",
     "output_type": "stream",
     "text": [
      "12\n"
     ]
    }
   ],
   "source": [
    "a = 10\n",
    "b = 2\n",
    "rs = a+b\n",
    "print(rs)"
   ]
  },
  {
   "cell_type": "code",
   "execution_count": null,
   "id": "48aa5804",
   "metadata": {},
   "outputs": [],
   "source": [
    "def getPlus(a, b):\n",
    "#     rs = a + b\n",
    "#     return rs\n",
    "    return a+b"
   ]
  },
  {
   "cell_type": "code",
   "execution_count": null,
   "id": "53a4eac2",
   "metadata": {},
   "outputs": [
    {
     "data": {
      "text/plain": [
       "12"
      ]
     },
     "execution_count": 17,
     "metadata": {},
     "output_type": "execute_result"
    }
   ],
   "source": [
    "getPlus(10,2)"
   ]
  },
  {
   "cell_type": "code",
   "execution_count": null,
   "id": "4e9cbe69",
   "metadata": {},
   "outputs": [],
   "source": [
    "def getPlus2(a=17, b=2):\n",
    "    return a+b"
   ]
  },
  {
   "cell_type": "code",
   "execution_count": null,
   "id": "c240358e",
   "metadata": {},
   "outputs": [
    {
     "data": {
      "text/plain": [
       "19"
      ]
     },
     "execution_count": 24,
     "metadata": {},
     "output_type": "execute_result"
    }
   ],
   "source": [
    "getPlus2()"
   ]
  },
  {
   "cell_type": "code",
   "execution_count": null,
   "id": "7fdbf84e",
   "metadata": {},
   "outputs": [],
   "source": [
    "### 2개의 정수값을 매개변수로 받아서\n",
    "# 첫번째 매개변수 ~ 두번째 매개변수의 값까지의 합을 계산하는기능을 만들어주세요!\n",
    "# 함수이름 : getSum\n",
    "# 단, 첫번째 매개변수는 두번째 매개변수보다 작은 값을 사용\n",
    "# 예시 : 1과 10을 넣으면 1부터 10까지의 합이 되도록"
   ]
  },
  {
   "cell_type": "code",
   "execution_count": null,
   "id": "da43de62",
   "metadata": {},
   "outputs": [],
   "source": [
    "def getSum(a, b):\n",
    "    sum = 0\n",
    "    a<b\n",
    "    for k in range(a,b+1):\n",
    "        sum += k\n",
    "    print(sum)"
   ]
  },
  {
   "cell_type": "code",
   "execution_count": null,
   "id": "533603e9",
   "metadata": {},
   "outputs": [
    {
     "name": "stdout",
     "output_type": "stream",
     "text": [
      "55\n"
     ]
    }
   ],
   "source": [
    "getSum(1, 10)"
   ]
  },
  {
   "cell_type": "code",
   "execution_count": null,
   "id": "7ffb98b5",
   "metadata": {},
   "outputs": [
    {
     "name": "stdout",
     "output_type": "stream",
     "text": [
      "1\n",
      "3\n",
      "6\n",
      "10\n",
      "15\n",
      "21\n",
      "28\n",
      "36\n",
      "45\n",
      "55\n"
     ]
    }
   ],
   "source": [
    "sum=0\n",
    "for k in range(1,11):\n",
    "    sum = k+ sum\n",
    "    print(sum)"
   ]
  },
  {
   "cell_type": "code",
   "execution_count": null,
   "id": "4cee2d53",
   "metadata": {},
   "outputs": [],
   "source": [
    "### 두개 매개변수가 (a, b)라고 할 때\n",
    "# a < b 이든, a > b 이든 합한 값 출력하기\n",
    "# 예시 : a=10, b=1 이어도 55가 나오게\n",
    "#         = 10 + 9 + 8 + 7 + 6,,, +1 = 55\n",
    "#     : a=1, b=10이면,\n",
    "#        = 1 + 2 + ... +10 = 55"
   ]
  },
  {
   "cell_type": "code",
   "execution_count": null,
   "id": "c2668fd6",
   "metadata": {},
   "outputs": [],
   "source": [
    "def getSum(a, b):\n",
    "    sum = 0\n",
    "    if a<b :\n",
    "        for k in range(a,b+1):\n",
    "            sum += k\n",
    "    elif a>b :\n",
    "        for k in range(b,a+1):\n",
    "            sum += k\n",
    "    print(sum)"
   ]
  },
  {
   "cell_type": "raw",
   "id": "1a009475",
   "metadata": {},
   "source": [
    "getSum(9,1)"
   ]
  },
  {
   "cell_type": "code",
   "execution_count": null,
   "id": "a0635594",
   "metadata": {},
   "outputs": [],
   "source": [
    "def getSum(a, b):\n",
    "    sum = 0\n",
    "    cnt = 1\n",
    "    if a>b:\n",
    "        cnt = -1\n",
    "    for i in range(a, b+cnt, cnt):\n",
    "        sum += i\n",
    "    return sum"
   ]
  },
  {
   "cell_type": "code",
   "execution_count": null,
   "id": "39d40f4a",
   "metadata": {},
   "outputs": [
    {
     "data": {
      "text/plain": [
       "55"
      ]
     },
     "execution_count": 55,
     "metadata": {},
     "output_type": "execute_result"
    }
   ],
   "source": [
    "getSum(10,1)"
   ]
  },
  {
   "cell_type": "code",
   "execution_count": null,
   "id": "a02800df",
   "metadata": {},
   "outputs": [],
   "source": [
    "### (2~9사이의)정수값 1개의 매개변수를 받아서\n",
    "# 해당 매개변수에 해당하는 값에 대한 구구단 출력\n",
    "# - 입력된 정수값이 단이 됩니다.\n",
    "# - 함수이름 : gDan1()"
   ]
  },
  {
   "cell_type": "code",
   "execution_count": null,
   "id": "11047f7c",
   "metadata": {},
   "outputs": [],
   "source": [
    "def gDan1(dan):\n",
    "    for i in range(1,10):\n",
    "        print(\"{}X{}={}\".format(dan,i,dan*i))"
   ]
  },
  {
   "cell_type": "code",
   "execution_count": null,
   "id": "e94c9970",
   "metadata": {},
   "outputs": [
    {
     "name": "stdout",
     "output_type": "stream",
     "text": [
      "2\n",
      "4\n",
      "6\n",
      "8\n",
      "10\n",
      "12\n",
      "14\n",
      "16\n",
      "18\n"
     ]
    }
   ],
   "source": [
    "dan = 2\n",
    "for i in range(1,10):\n",
    "    print(\"{}X{}={}\".format(dan,i,dan*i))"
   ]
  },
  {
   "cell_type": "code",
   "execution_count": null,
   "id": "0f288280",
   "metadata": {},
   "outputs": [
    {
     "name": "stdout",
     "output_type": "stream",
     "text": [
      "3X1=3\n",
      "3X2=6\n",
      "3X3=9\n",
      "3X4=12\n",
      "3X5=15\n",
      "3X6=18\n",
      "3X7=21\n",
      "3X8=24\n",
      "3X9=27\n"
     ]
    }
   ],
   "source": [
    "gDan1(3)"
   ]
  },
  {
   "cell_type": "code",
   "execution_count": null,
   "id": "6b8fdd85",
   "metadata": {},
   "outputs": [],
   "source": [
    "###(2~9사이의)정수값 2개 매개변수로 받아서 구구단 처리\n",
    "# 예 : 매개변수(2,3,)이면 2단~3단까지 출력\n",
    "# 함수이름 : gDan2()"
   ]
  },
  {
   "cell_type": "code",
   "execution_count": null,
   "id": "efbd9c71",
   "metadata": {},
   "outputs": [
    {
     "name": "stdout",
     "output_type": "stream",
     "text": [
      "2X1=2\n",
      "2X2=4\n",
      "2X3=6\n",
      "2X4=8\n",
      "2X5=10\n",
      "2X6=12\n",
      "2X7=14\n",
      "2X8=16\n",
      "2X9=18\n"
     ]
    }
   ],
   "source": [
    "dan = 2\n",
    "for i in range(1,10):\n",
    "    print(\"{}X{}={}\".format(dan,i,dan*i))"
   ]
  },
  {
   "cell_type": "code",
   "execution_count": null,
   "id": "2f8705fb",
   "metadata": {},
   "outputs": [
    {
     "ename": "TypeError",
     "evalue": "range expected at least 1 argument, got 0",
     "output_type": "error",
     "traceback": [
      "\u001b[1;31m---------------------------------------------------------------------------\u001b[0m",
      "\u001b[1;31mTypeError\u001b[0m                                 Traceback (most recent call last)",
      "Cell \u001b[1;32mIn[98], line 1\u001b[0m\n\u001b[1;32m----> 1\u001b[0m \u001b[38;5;28;01mfor\u001b[39;00m d \u001b[38;5;129;01min\u001b[39;00m \u001b[38;5;28;43mrange\u001b[39;49m\u001b[43m(\u001b[49m\u001b[43m)\u001b[49m:\n\u001b[0;32m      2\u001b[0m     \u001b[38;5;28;01mfor\u001b[39;00m i \u001b[38;5;129;01min\u001b[39;00m \u001b[38;5;28mrange\u001b[39m(\u001b[38;5;241m1\u001b[39m,\u001b[38;5;241m10\u001b[39m):\n\u001b[0;32m      3\u001b[0m         \u001b[38;5;28mprint\u001b[39m(\u001b[38;5;124m\"\u001b[39m\u001b[38;5;132;01m{}\u001b[39;00m\u001b[38;5;124mX\u001b[39m\u001b[38;5;132;01m{}\u001b[39;00m\u001b[38;5;124m=\u001b[39m\u001b[38;5;132;01m{}\u001b[39;00m\u001b[38;5;124m\"\u001b[39m\u001b[38;5;241m.\u001b[39mformat(dan,i,dan\u001b[38;5;241m*\u001b[39mi))\n",
      "\u001b[1;31mTypeError\u001b[0m: range expected at least 1 argument, got 0"
     ]
    }
   ],
   "source": [
    "for d in range(dan,):\n",
    "    for i in range(1,10):\n",
    "        print(\"{}X{}={}\".format(dan,i,dan*i))"
   ]
  },
  {
   "cell_type": "code",
   "execution_count": null,
   "id": "97a3017d",
   "metadata": {},
   "outputs": [],
   "source": [
    "# 2 x 1\n",
    "# 바깥쪽 고정 안쪽 증가\n",
    "# a = 2\n",
    "# b = 3\n",
    "def gDan2(a,b):\n",
    "    for dan in range(a,b+1,1):\n",
    "        for i in range(1,10):\n",
    "            print(\"{} X {} = {}\".format(dan,i,dan*i))"
   ]
  },
  {
   "cell_type": "code",
   "execution_count": null,
   "id": "76190f57",
   "metadata": {},
   "outputs": [
    {
     "name": "stdout",
     "output_type": "stream",
     "text": [
      "3 X 1 = 3\n",
      "3 X 2 = 6\n",
      "3 X 3 = 9\n",
      "3 X 4 = 12\n",
      "3 X 5 = 15\n",
      "3 X 6 = 18\n",
      "3 X 7 = 21\n",
      "3 X 8 = 24\n",
      "3 X 9 = 27\n",
      "4 X 1 = 4\n",
      "4 X 2 = 8\n",
      "4 X 3 = 12\n",
      "4 X 4 = 16\n",
      "4 X 5 = 20\n",
      "4 X 6 = 24\n",
      "4 X 7 = 28\n",
      "4 X 8 = 32\n",
      "4 X 9 = 36\n",
      "5 X 1 = 5\n",
      "5 X 2 = 10\n",
      "5 X 3 = 15\n",
      "5 X 4 = 20\n",
      "5 X 5 = 25\n",
      "5 X 6 = 30\n",
      "5 X 7 = 35\n",
      "5 X 8 = 40\n",
      "5 X 9 = 45\n",
      "6 X 1 = 6\n",
      "6 X 2 = 12\n",
      "6 X 3 = 18\n",
      "6 X 4 = 24\n",
      "6 X 5 = 30\n",
      "6 X 6 = 36\n",
      "6 X 7 = 42\n",
      "6 X 8 = 48\n",
      "6 X 9 = 54\n",
      "7 X 1 = 7\n",
      "7 X 2 = 14\n",
      "7 X 3 = 21\n",
      "7 X 4 = 28\n",
      "7 X 5 = 35\n",
      "7 X 6 = 42\n",
      "7 X 7 = 49\n",
      "7 X 8 = 56\n",
      "7 X 9 = 63\n"
     ]
    }
   ],
   "source": [
    "gDan2(3,7)"
   ]
  },
  {
   "cell_type": "code",
   "execution_count": null,
   "id": "6f8595bd",
   "metadata": {},
   "outputs": [],
   "source": [
    "### class"
   ]
  },
  {
   "cell_type": "code",
   "execution_count": null,
   "id": "b0e63ad3",
   "metadata": {},
   "outputs": [],
   "source": [
    "class Class_Util:\n",
    "    ### class 내부에 정의하는 모든 함수의 매개변수에는 self가 있어야함\n",
    "    ### 생성자 : 클래스가 생성될 때 최초에 자동으로 호출되는 함수\n",
    "    def __init__(self, a, b):\n",
    "        ### self로 정의된 변수들은 전역변수로 사용가능하며\n",
    "        ### - 외부파일에서 접근가능\n",
    "        self.a = a\n",
    "        self.b = b\n",
    "        \n",
    "        ### class 내부에 있는 함수를 호출할 때는 self로 접근해야 합니다.\n",
    "        self.getSum()\n",
    "        \n",
    "    def getSum(self):\n",
    "        self.sum = 0\n",
    "        cnt = 1\n",
    "        if self.a>self.b:\n",
    "            cnt = -1\n",
    "        for i in range(self.a, self.b+cnt, cnt):\n",
    "            self.sum += i\n",
    "#         return sum"
   ]
  },
  {
   "cell_type": "code",
   "execution_count": null,
   "id": "2e9f4aff",
   "metadata": {},
   "outputs": [],
   "source": [
    "c_Util = Class_Util(1,100)"
   ]
  },
  {
   "cell_type": "code",
   "execution_count": null,
   "id": "5f04046b",
   "metadata": {},
   "outputs": [],
   "source": [
    "c_Util.a\n",
    "c_Util.b\n",
    "c_Util.getSum()"
   ]
  },
  {
   "cell_type": "code",
   "execution_count": null,
   "id": "3dfc94da",
   "metadata": {},
   "outputs": [
    {
     "data": {
      "text/plain": [
       "5050"
      ]
     },
     "execution_count": 131,
     "metadata": {},
     "output_type": "execute_result"
    }
   ],
   "source": [
    "c_Util.sum"
   ]
  },
  {
   "cell_type": "code",
   "execution_count": null,
   "id": "d7d4df19",
   "metadata": {},
   "outputs": [],
   "source": []
  },
  {
   "cell_type": "code",
   "execution_count": null,
   "id": "438a2e1a",
   "metadata": {},
   "outputs": [],
   "source": []
  },
  {
   "cell_type": "code",
   "execution_count": null,
   "id": "a3e358ce",
   "metadata": {},
   "outputs": [],
   "source": []
  }
 ],
 "metadata": {
  "kernelspec": {
   "display_name": "Python 3 (ipykernel)",
   "language": "python",
   "name": "python3"
  },
  "language_info": {
   "codemirror_mode": {
    "name": "ipython",
    "version": 3
   },
   "file_extension": ".py",
   "mimetype": "text/x-python",
   "name": "python",
   "nbconvert_exporter": "python",
   "pygments_lexer": "ipython3",
   "version": "3.9.16"
  }
 },
 "nbformat": 4,
 "nbformat_minor": 5
}
